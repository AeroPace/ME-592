{
  "nbformat": 4,
  "nbformat_minor": 0,
  "metadata": {
    "colab": {
      "name": "PlotResults.ipynb",
      "provenance": [],
      "collapsed_sections": [],
      "authorship_tag": "ABX9TyPEHqjla+Ne4LrBVmi6n0Ui",
      "include_colab_link": true
    },
    "kernelspec": {
      "name": "python3",
      "display_name": "Python 3"
    },
    "language_info": {
      "name": "python"
    }
  },
  "cells": [
    {
      "cell_type": "markdown",
      "metadata": {
        "id": "view-in-github",
        "colab_type": "text"
      },
      "source": [
        "<a href=\"https://colab.research.google.com/github/AeroPace/ME-592/blob/main/PlotResults.ipynb\" target=\"_parent\"><img src=\"https://colab.research.google.com/assets/colab-badge.svg\" alt=\"Open In Colab\"/></a>"
      ]
    },
    {
      "cell_type": "markdown",
      "source": [
        "##Import zip files"
      ],
      "metadata": {
        "id": "Kk4ODBVEwcHW"
      }
    },
    {
      "cell_type": "code",
      "source": [
        "#@AUTHOR: DANIEL PACE\n",
        "#@DATE: 3/8/2022\n",
        "#@PURPOSE: This block will mount your google colab drive. Successful execution\n",
        "#         of the remainder of this code depends on a file structure of...\n",
        "#         /MyDrive/Colab Notebooks/ME 592/HW2/HW2.ipynb\n",
        "#         /MyDrive/Colab Notebooks/ME 592/HW2/data/[input_geometry/output_geometry]\n",
        "\n",
        "\n",
        "import os, sys\n",
        "from google.colab import drive\n",
        "\n",
        "# This mouunts your google drive to the current runtime\n",
        "drive.mount('/content/mnt', force_remount=True)\n",
        "# We define a notebook path\n",
        "nb_path = '/content/notebooks'\n",
        "# We create a symbolic link from our drive's default \"Colab Notebooks\" folder to nb_path\n",
        "os.symlink('/content/mnt/My Drive/Colab Notebooks', nb_path)\n",
        "# Insert nb path\n",
        "sys.path.insert(0, nb_path)"
      ],
      "metadata": {
        "colab": {
          "base_uri": "https://localhost:8080/",
          "height": 293
        },
        "id": "3RPZrWqh62aq",
        "outputId": "5ded567a-4790-4f43-db7c-89abf2a3fa28"
      },
      "execution_count": 42,
      "outputs": [
        {
          "output_type": "stream",
          "name": "stdout",
          "text": [
            "Mounted at /content/mnt\n"
          ]
        },
        {
          "output_type": "error",
          "ename": "FileExistsError",
          "evalue": "ignored",
          "traceback": [
            "\u001b[0;31m---------------------------------------------------------------------------\u001b[0m",
            "\u001b[0;31mFileExistsError\u001b[0m                           Traceback (most recent call last)",
            "\u001b[0;32m<ipython-input-42-ed4290bb5ce2>\u001b[0m in \u001b[0;36m<module>\u001b[0;34m()\u001b[0m\n\u001b[1;32m     15\u001b[0m \u001b[0mnb_path\u001b[0m \u001b[0;34m=\u001b[0m \u001b[0;34m'/content/notebooks'\u001b[0m\u001b[0;34m\u001b[0m\u001b[0;34m\u001b[0m\u001b[0m\n\u001b[1;32m     16\u001b[0m \u001b[0;31m# We create a symbolic link from our drive's default \"Colab Notebooks\" folder to nb_path\u001b[0m\u001b[0;34m\u001b[0m\u001b[0;34m\u001b[0m\u001b[0;34m\u001b[0m\u001b[0m\n\u001b[0;32m---> 17\u001b[0;31m \u001b[0mos\u001b[0m\u001b[0;34m.\u001b[0m\u001b[0msymlink\u001b[0m\u001b[0;34m(\u001b[0m\u001b[0;34m'/content/mnt/My Drive/Colab Notebooks'\u001b[0m\u001b[0;34m,\u001b[0m \u001b[0mnb_path\u001b[0m\u001b[0;34m)\u001b[0m\u001b[0;34m\u001b[0m\u001b[0;34m\u001b[0m\u001b[0m\n\u001b[0m\u001b[1;32m     18\u001b[0m \u001b[0;31m# Insert nb path\u001b[0m\u001b[0;34m\u001b[0m\u001b[0;34m\u001b[0m\u001b[0;34m\u001b[0m\u001b[0m\n\u001b[1;32m     19\u001b[0m \u001b[0msys\u001b[0m\u001b[0;34m.\u001b[0m\u001b[0mpath\u001b[0m\u001b[0;34m.\u001b[0m\u001b[0minsert\u001b[0m\u001b[0;34m(\u001b[0m\u001b[0;36m0\u001b[0m\u001b[0;34m,\u001b[0m \u001b[0mnb_path\u001b[0m\u001b[0;34m)\u001b[0m\u001b[0;34m\u001b[0m\u001b[0;34m\u001b[0m\u001b[0m\n",
            "\u001b[0;31mFileExistsError\u001b[0m: [Errno 17] File exists: '/content/mnt/My Drive/Colab Notebooks' -> '/content/notebooks'"
          ]
        }
      ]
    },
    {
      "cell_type": "code",
      "source": [
        "# Copy over the TOP4040.zip file from Google Colab Notebooks\n",
        "!cp /content/notebooks/TOP4040.zip /content/\n",
        "!cp /content/notebooks/top-master.zip /content/\n",
        "!cp /content/notebooks/nn4topopt-master.zip /content/\n",
        "\n",
        "!unzip TOP4040.zip\n",
        "!rm TOP4040.zip\n",
        "\n",
        "# Unzip the top-master.zip file into the Google Colab Session\n",
        "!unzip top-master.zip\n",
        "!rm top-master.zip\n",
        "\n",
        "# Unzip the nn4topopt-master.zip file into the Google Colab Session\n",
        "!unzip nn4topopt-master.zip\n",
        "!rm nn4topopt-master.zip\n",
        "\n",
        "# Moving source files to local run-directory\n",
        "!mv /content/nn4topopt-master/conv_model.py /content/\n",
        "!mv /content/nn4topopt-master/data_utils.py /content/\n",
        "!mv /content/nn4topopt-master/sampler_utils.py /content/\n",
        "!mv /content/nn4topopt-master/experiments.sh /content/\n",
        "!mv /content/nn4topopt-master/prepare_data.py /content/\n",
        "!mv /content/nn4topopt-master/training.py /content/"
      ],
      "metadata": {
        "id": "ydi0L1bNwanf"
      },
      "execution_count": null,
      "outputs": []
    },
    {
      "cell_type": "markdown",
      "source": [
        "##Import Python 2.7 module libraries"
      ],
      "metadata": {
        "id": "PKHTe9YtwfYl"
      }
    },
    {
      "cell_type": "code",
      "source": [
        "!python2.7 -m pip install tensorflow==1.4.1\n",
        "!python2.7 -m pip install keras==2.1.2\n",
        "!python2.7 -m pip install h5py"
      ],
      "metadata": {
        "id": "4zkkswWlwJoT"
      },
      "execution_count": null,
      "outputs": []
    },
    {
      "cell_type": "markdown",
      "source": [
        "##Prepare TOP4040 dataset"
      ],
      "metadata": {
        "id": "rfAr6AY27iV3"
      }
    },
    {
      "cell_type": "code",
      "source": [
        "# Prepare the Dataset\n",
        "!python2.7 /content/prepare_data.py --source TOP4040/ --dataset-path /content/top_dataset.h5"
      ],
      "metadata": {
        "colab": {
          "base_uri": "https://localhost:8080/"
        },
        "id": "9TZTJjtI7fhU",
        "outputId": "a8c535fb-1acf-49e7-fe58-15873d4ccf63"
      },
      "execution_count": 9,
      "outputs": [
        {
          "output_type": "stream",
          "name": "stdout",
          "text": [
            "Preparing dataset\n",
            "TOP4040//* --> /content/top_dataset.h5\n"
          ]
        }
      ]
    },
    {
      "cell_type": "markdown",
      "source": [
        "##Run Python 2.7 results compiler"
      ],
      "metadata": {
        "id": "LfclVOUgwmKr"
      }
    },
    {
      "cell_type": "code",
      "source": [
        "!python2.7 results.py"
      ],
      "metadata": {
        "id": "6E7VNF3dwKjS",
        "colab": {
          "base_uri": "https://localhost:8080/"
        },
        "outputId": "13bcf306-d7be-4b75-acd5-e1fda3c70411"
      },
      "execution_count": 44,
      "outputs": [
        {
          "output_type": "stream",
          "name": "stdout",
          "text": [
            "Using TensorFlow backend.\n",
            "2022-05-12 20:34:58.780009: I tensorflow/core/platform/cpu_feature_guard.cc:137] Your CPU supports instructions that this TensorFlow binary was not compiled to use: SSE4.1 SSE4.2 AVX AVX2 FMA\n",
            "80/80 [==============================] - 119s 1s/step\n",
            "80/80 [==============================] - 121s 2s/step\n",
            "80/80 [==============================] - 119s 1s/step\n",
            "80/80 [==============================] - 118s 1s/step\n",
            "80/80 [==============================] - 116s 1s/step\n",
            "80/80 [==============================] - 118s 1s/step\n",
            "80/80 [==============================] - 122s 2s/step\n",
            "80/80 [==============================] - 120s 1s/step\n",
            "80/80 [==============================] - 121s 2s/step\n",
            "80/80 [==============================] - 119s 1s/step\n",
            "80/80 [==============================] - 42s 520ms/step\n",
            "DONE\n",
            "^C\n"
          ]
        }
      ]
    },
    {
      "cell_type": "markdown",
      "source": [
        "##Un-pickle results and plot"
      ],
      "metadata": {
        "id": "4a694pxuwpcb"
      }
    },
    {
      "cell_type": "code",
      "execution_count": 45,
      "metadata": {
        "id": "7EJC-KGJvz10",
        "colab": {
          "base_uri": "https://localhost:8080/",
          "height": 358
        },
        "outputId": "808e2bae-3d73-412e-cfa9-fcdf1a51654e"
      },
      "outputs": [
        {
          "output_type": "display_data",
          "data": {
            "text/plain": [
              "<Figure size 864x432 with 1 Axes>"
            ],
            "image/png": "[encoded data removed]"
          },
          "metadata": {
            "needs_background": "light"
          }
        }
      ],
      "source": [
        "import pickle\n",
        "import matplotlib.pyplot as plt\n",
        "\n",
        "iterations = range(5, 85, 5)\n",
        "\n",
        "with open('saved_dictionary.pkl', 'rb') as f:\n",
        "  experiments = pickle.load(f, encoding='latin1')\n",
        "\n",
        "plt.figure(figsize=(12, 6))\n",
        "\n",
        "for k, v in experiments.items():\n",
        "    plt.plot(iterations, v['results'], label=k, lw=4)\n",
        "    \n",
        "plt.title('Binary accuracy', fontsize=16)\n",
        "plt.xlabel('iteration', fontsize=14)\n",
        "plt.ylabel('accuracy', fontsize=14)\n",
        "plt.legend(loc='best', fontsize=13)\n",
        "plt.grid()\n",
        "plt.show()"
      ]
    },
    {
      "cell_type": "code",
      "source": [
        "for i in iterations:\n",
        "  print(i)"
      ],
      "metadata": {
        "id": "I09ZVnSfBKGH"
      },
      "execution_count": null,
      "outputs": []
    },
    {
      "cell_type": "code",
      "source": [
        "experiments"
      ],
      "metadata": {
        "colab": {
          "base_uri": "https://localhost:8080/"
        },
        "id": "H0z3ZEx4BD_C",
        "outputId": "783b36f4-776e-421b-e15f-3f7f3d555d37"
      },
      "execution_count": 46,
      "outputs": [
        {
          "output_type": "execute_result",
          "data": {
            "text/plain": [
              "{'poisson 10, VC 1': {'model_path': '/content/notebooks/VariationalAutoencoder_2/poisson_10/VOL_COEFF=1.0',\n",
              "  'results': [0.93888867,\n",
              "   0.95916307,\n",
              "   0.9650791,\n",
              "   0.96924907,\n",
              "   0.9706982,\n",
              "   0.9715722,\n",
              "   0.9729043,\n",
              "   0.97415626,\n",
              "   0.97571385,\n",
              "   0.9762686,\n",
              "   0.97735345,\n",
              "   0.9781826,\n",
              "   0.97772276,\n",
              "   0.97852725,\n",
              "   0.9784668,\n",
              "   0.97881144]},\n",
              " 'poisson 10, VC 10': {'model_path': '/content/notebooks/VariationalAutoencoder_2/poisson_10/VOL_COEFF=10.0',\n",
              "  'results': [0.9416045,\n",
              "   0.9619004,\n",
              "   0.9674288,\n",
              "   0.97111034,\n",
              "   0.9730517,\n",
              "   0.9755683,\n",
              "   0.97581637,\n",
              "   0.9773809,\n",
              "   0.9798233,\n",
              "   0.9795537,\n",
              "   0.97995317,\n",
              "   0.98099697,\n",
              "   0.9823946,\n",
              "   0.98212016,\n",
              "   0.98300874,\n",
              "   0.9829404]},\n",
              " 'poisson 5, VC 1': {'model_path': '/content/notebooks/VariationalAutoencoder_2/poisson_5/VOL_COEFF=1.0',\n",
              "  'results': [0.9405713,\n",
              "   0.9554003,\n",
              "   0.9613174,\n",
              "   0.96539056,\n",
              "   0.96688765,\n",
              "   0.9704053,\n",
              "   0.9717657,\n",
              "   0.9724199,\n",
              "   0.97399026,\n",
              "   0.974212,\n",
              "   0.9755791,\n",
              "   0.97703516,\n",
              "   0.9762187,\n",
              "   0.9769932,\n",
              "   0.97663087,\n",
              "   0.97711134]},\n",
              " 'poisson 5, VC 10': {'model_path': '/content/notebooks/VariationalAutoencoder_2/poisson_5/VOL_COEFF=10.0',\n",
              "  'results': [0.5090576,\n",
              "   0.5062842,\n",
              "   0.5063955,\n",
              "   0.5009365,\n",
              "   0.5053574,\n",
              "   0.50734764,\n",
              "   0.5062266,\n",
              "   0.5085908,\n",
              "   0.50839555,\n",
              "   0.5085205,\n",
              "   0.5184248,\n",
              "   0.49743748,\n",
              "   0.50485647,\n",
              "   0.5074462,\n",
              "   0.50124216,\n",
              "   0.51018846]},\n",
              " 'poisson 5, VC 100': {'model_path': '/content/notebooks/VariationalAutoencoder_2/poisson_5/VOL_COEFF=100.0',\n",
              "  'results': [0.5086514,\n",
              "   0.5091709,\n",
              "   0.50674313,\n",
              "   0.5027803,\n",
              "   0.50841504,\n",
              "   0.50703806,\n",
              "   0.50574416,\n",
              "   0.49969435,\n",
              "   0.5111709,\n",
              "   0.5045918,\n",
              "   0.50481737,\n",
              "   0.50331056,\n",
              "   0.51219237,\n",
              "   0.5052315,\n",
              "   0.510292,\n",
              "   0.50163865]},\n",
              " 'poisson 5, VC 50': {'model_path': '/content/notebooks/VariationalAutoencoder_2/poisson_5/VOL_COEFF=50.0',\n",
              "  'results': [0.5057334,\n",
              "   0.5101348,\n",
              "   0.50154686,\n",
              "   0.50817674,\n",
              "   0.5048847,\n",
              "   0.49855566,\n",
              "   0.5119619,\n",
              "   0.5057861,\n",
              "   0.5145293,\n",
              "   0.51284766,\n",
              "   0.50222456,\n",
              "   0.509333,\n",
              "   0.506124,\n",
              "   0.5017783,\n",
              "   0.51675975,\n",
              "   0.5064082]},\n",
              " 'thresholding': {'results': [0.9374404296875,\n",
              "   0.9559111328125001,\n",
              "   0.9662382812500002,\n",
              "   0.9689677734375002,\n",
              "   0.9742656249999999,\n",
              "   0.9796884765625,\n",
              "   0.979896484375,\n",
              "   0.9823105468749999,\n",
              "   0.9822197265625,\n",
              "   0.98458984375,\n",
              "   0.9856132812499998,\n",
              "   0.9863876953125,\n",
              "   0.986744140625,\n",
              "   0.9883779296874999,\n",
              "   0.9885673828124999,\n",
              "   0.9892539062499999]},\n",
              " 'uniform, VC 1': {'model_path': '/content/notebooks/VariationalAutoencoder_2/uniform/VOL_COEFF=1.0',\n",
              "  'results': [0.9379288,\n",
              "   0.9569551,\n",
              "   0.967083,\n",
              "   0.9711992,\n",
              "   0.97552145,\n",
              "   0.97765523,\n",
              "   0.9800498,\n",
              "   0.9820801,\n",
              "   0.981918,\n",
              "   0.983791,\n",
              "   0.9845977,\n",
              "   0.98619634,\n",
              "   0.9866357,\n",
              "   0.98715913,\n",
              "   0.9870693,\n",
              "   0.98789054]},\n",
              " 'uniform, VC 10': {'model_path': '/content/notebooks/VariationalAutoencoder_2/uniform/VOL_COEFF=10.0',\n",
              "  'results': [0.9361895,\n",
              "   0.9567226,\n",
              "   0.96624815,\n",
              "   0.97077435,\n",
              "   0.97448635,\n",
              "   0.9762783,\n",
              "   0.9780176,\n",
              "   0.9804317,\n",
              "   0.982038,\n",
              "   0.9830683,\n",
              "   0.98421776,\n",
              "   0.98545504,\n",
              "   0.98592967,\n",
              "   0.9858448,\n",
              "   0.9862999,\n",
              "   0.98787403]},\n",
              " 'uniform, VC 100': {'model_path': '/content/notebooks/VariationalAutoencoder_2/uniform/VOL_COEFF=100.0',\n",
              "  'results': [0.5023545,\n",
              "   0.5005576,\n",
              "   0.50784373,\n",
              "   0.5093614,\n",
              "   0.50500584,\n",
              "   0.49817675,\n",
              "   0.50538766,\n",
              "   0.50163764,\n",
              "   0.5049414,\n",
              "   0.510042,\n",
              "   0.50763273,\n",
              "   0.5030713,\n",
              "   0.5051211,\n",
              "   0.5050019,\n",
              "   0.5085615,\n",
              "   0.4974473]},\n",
              " 'uniform, VC 50': {'model_path': '/content/notebooks/VariationalAutoencoder_2/uniform/VOL_COEFF=50.0',\n",
              "  'results': [0.5059668,\n",
              "   0.5067197,\n",
              "   0.5083105,\n",
              "   0.50188184,\n",
              "   0.51014745,\n",
              "   0.50087506,\n",
              "   0.5003281,\n",
              "   0.50699997,\n",
              "   0.49894047,\n",
              "   0.5109961,\n",
              "   0.5038301,\n",
              "   0.5023184,\n",
              "   0.51490825,\n",
              "   0.50868845,\n",
              "   0.510709,\n",
              "   0.4996152]}}"
            ]
          },
          "metadata": {},
          "execution_count": 46
        }
      ]
    }
  ]
}
