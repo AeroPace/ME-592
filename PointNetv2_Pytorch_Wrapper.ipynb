{
  "nbformat": 4,
  "nbformat_minor": 0,
  "metadata": {
    "colab": {
      "name": "PointNetv2_Pytorch_Wrapper.ipynb",
      "provenance": [],
      "authorship_tag": "ABX9TyP77NtRGv0tEslSRPQRBYVr",
      "include_colab_link": true
    },
    "kernelspec": {
      "name": "python3",
      "display_name": "Python 3"
    },
    "language_info": {
      "name": "python"
    },
    "accelerator": "GPU"
  },
  "cells": [
    {
      "cell_type": "markdown",
      "metadata": {
        "id": "view-in-github",
        "colab_type": "text"
      },
      "source": [
        "<a href=\"https://colab.research.google.com/github/AeroPace/ME-592/blob/main/PointNetv2_Pytorch_Wrapper.ipynb\" target=\"_parent\"><img src=\"https://colab.research.google.com/assets/colab-badge.svg\" alt=\"Open In Colab\"/></a>"
      ]
    },
    {
      "cell_type": "markdown",
      "source": [
        "#PointNet++ Google Colab Wrapper\n",
        "\n",
        "The PointNet source code https://github.com/charlesq34/pointnet2 has become out of date to recent Python, Tensorflow, and Google Colab updates. This Google Colab .ipynb session acts as a wrapper to execute either the ModelNet40 or ShapeNet datasets on the original PointNet++ model without any compromises to the algorithm or developers intent. To implement PointNet++ a wrapper was built around the modernized effort developed at https://github.com/yanx27/Pointnet_Pointnet2_pytorch.\n",
        "\n",
        "Updates were made to the source code to handle out-dated web-page certificates to retrieve the datasets as well as handling depreciated versions of Tensorflow and depreciated Python 2 syntax handling to execute in Python 3.7 environments. Source-Code updates were made and saved off at https://github.com/AeroPace/ME-592/raw/main/HW4/Pointnet_Pointnet2_pytorch-master.zip and called directly into memory below."
      ],
      "metadata": {
        "id": "LDt3eGWGlsei"
      }
    },
    {
      "cell_type": "markdown",
      "source": [
        "##Google Colab Session Setup"
      ],
      "metadata": {
        "id": "7ugEBC_9lZnv"
      }
    },
    {
      "cell_type": "markdown",
      "source": [
        "Check whether there are pre-existing processes running on the GPU"
      ],
      "metadata": {
        "id": "AHG9F7wolddd"
      }
    },
    {
      "cell_type": "code",
      "execution_count": null,
      "metadata": {
        "colab": {
          "base_uri": "https://localhost:8080/"
        },
        "id": "mwaBh5cMn98t",
        "outputId": "91cbcbec-789e-47e1-ee28-1ba07bf8ead5"
      },
      "outputs": [
        {
          "output_type": "stream",
          "name": "stdout",
          "text": [
            "Mon Apr 18 01:26:03 2022       \n",
            "+-----------------------------------------------------------------------------+\n",
            "| NVIDIA-SMI 460.32.03    Driver Version: 460.32.03    CUDA Version: 11.2     |\n",
            "|-------------------------------+----------------------+----------------------+\n",
            "| GPU  Name        Persistence-M| Bus-Id        Disp.A | Volatile Uncorr. ECC |\n",
            "| Fan  Temp  Perf  Pwr:Usage/Cap|         Memory-Usage | GPU-Util  Compute M. |\n",
            "|                               |                      |               MIG M. |\n",
            "|===============================+======================+======================|\n",
            "|   0  Tesla P100-PCIE...  Off  | 00000000:00:04.0 Off |                    0 |\n",
            "| N/A   33C    P0    26W / 250W |      0MiB / 16280MiB |      0%      Default |\n",
            "|                               |                      |                  N/A |\n",
            "+-------------------------------+----------------------+----------------------+\n",
            "                                                                               \n",
            "+-----------------------------------------------------------------------------+\n",
            "| Processes:                                                                  |\n",
            "|  GPU   GI   CI        PID   Type   Process name                  GPU Memory |\n",
            "|        ID   ID                                                   Usage      |\n",
            "|=============================================================================|\n",
            "|  No running processes found                                                 |\n",
            "+-----------------------------------------------------------------------------+\n"
          ]
        }
      ],
      "source": [
        "gpu_info = !nvidia-smi\n",
        "gpu_info = '\\n'.join(gpu_info)\n",
        "if gpu_info.find('failed') >= 0:\n",
        "  print('Not connected to a GPU')\n",
        "else:\n",
        "  print(gpu_info)"
      ]
    },
    {
      "cell_type": "code",
      "source": [
        "# Purpose: Upload the PointNet++ PyTorch Implementation source\n",
        "# Reference: https://github.com/yanx27/Pointnet_Pointnet2_pytorch\n",
        "!wget https://github.com/AeroPace/ME-592/raw/main/HW4/Pointnet_Pointnet2_pytorch-master.zip --no-check-certificate\n",
        "!unzip Pointnet_Pointnet2_pytorch-master.zip\n",
        "\n",
        "# Remove the zip file from the Google Colab sesion\n",
        "!rm Pointnet_Pointnet2_pytorch-master.zip\n",
        "\n",
        "# Moving Directories to local /content directories\n",
        "!mv Pointnet_Pointnet2_pytorch-master/data_utils /content/data_utils\n",
        "!mv Pointnet_Pointnet2_pytorch-master/log /content/log\n",
        "!mv Pointnet_Pointnet2_pytorch-master/models /content/models\n",
        "!mv Pointnet_Pointnet2_pytorch-master/visualizer /content/visualizer\n",
        "\n",
        "# Move files to local /content directory\n",
        "!mv Pointnet_Pointnet2_pytorch-master/LICENSE /content/\n",
        "!mv Pointnet_Pointnet2_pytorch-master/README.md /content/\n",
        "!mv Pointnet_Pointnet2_pytorch-master/provider.py /content/\n",
        "!mv Pointnet_Pointnet2_pytorch-master/test_classification.py /content/\n",
        "!mv Pointnet_Pointnet2_pytorch-master/test_partseg.py /content/\n",
        "!mv Pointnet_Pointnet2_pytorch-master/test_semseg.py /content/\n",
        "!mv Pointnet_Pointnet2_pytorch-master/train_classification.py /content/\n",
        "!mv Pointnet_Pointnet2_pytorch-master/train_partseg.py /content/\n",
        "!mv Pointnet_Pointnet2_pytorch-master/train_semseg.py /content/\n",
        "\n",
        "# Delete old un-zip folder\n",
        "!rm Pointnet_Pointnet2_pytorch-master"
      ],
      "metadata": {
        "id": "9qJyxrGqMDBp"
      },
      "execution_count": null,
      "outputs": []
    },
    {
      "cell_type": "markdown",
      "source": [
        "##Running PointNet on the ModelNet40 dataset"
      ],
      "metadata": {
        "id": "bgNrJi9Tl8z-"
      }
    },
    {
      "cell_type": "code",
      "source": [
        "# Purpose: Download the ModelNet40 data for Pytorch PointNet implementation\n",
        "# Reference: https://github.com/yanx27/Pointnet_Pointnet2_pytorch\n",
        "!wget https://shapenet.cs.stanford.edu/media/modelnet40_normal_resampled.zip --no-check-certificate\n",
        "!unzip modelnet40_normal_resampled.zip\n",
        "!rm modelnet40_normal_resampled.zip\n",
        "!mkdir data\n",
        "!mv modelnet40_normal_resampled/ /content/data"
      ],
      "metadata": {
        "id": "EG6FRPeZOjgk"
      },
      "execution_count": null,
      "outputs": []
    },
    {
      "cell_type": "code",
      "source": [
        "# Purpose: Execute PointNet++ PyTorch Implementation\n",
        "# Reference: https://github.com/yanx27/Pointnet_Pointnet2_pytorch\n",
        "\n",
        "!python train_classification.py \\\n",
        "    --model pointnet2_cls_ssg \\\n",
        "    --log_dir pointnet2_cls_ssg \\\n",
        "    --epoch 10 \\\n",
        "    --learning_rate 0.001 \\\n",
        "    --num_point 1024 \\\n",
        "    --decay_rate 0.0001 \\\n",
        "    \n",
        "!python test_classification.py --log_dir pointnet2_cls_ssg"
      ],
      "metadata": {
        "id": "Uo-huf7HuUBv"
      },
      "execution_count": null,
      "outputs": []
    },
    {
      "cell_type": "markdown",
      "source": [
        "##Running PointNet on the ShapeNet dataset"
      ],
      "metadata": {
        "id": "8ziPQHL5l2fV"
      }
    },
    {
      "cell_type": "code",
      "source": [
        "# Purpose: Download the ShapeNet data for Pytorch PointNet implementation\n",
        "# Reference: https://github.com/yanx27/Pointnet_Pointnet2_pytorch\n",
        "!wget https://shapenet.cs.stanford.edu/media/shapenetcore_partanno_segmentation_benchmark_v0_normal.zip --no-check-certificate\n",
        "!unzip shapenetcore_partanno_segmentation_benchmark_v0_normal.zip\n",
        "!rm shapenetcore_partanno_segmentation_benchmark_v0_normal.zip\n",
        "!mv shapenetcore_partanno_segmentation_benchmark_v0_normal /content/data/shapenetcore_partanno_segmentation_benchmark_v0_normal"
      ],
      "metadata": {
        "id": "wP_XjrBmm4_9"
      },
      "execution_count": null,
      "outputs": []
    },
    {
      "cell_type": "code",
      "source": [
        "# Purpose: Execute PointNet++ PyTorch Implementation\n",
        "# Reference: https://github.com/yanx27/Pointnet_Pointnet2_pytorch\n",
        "\n",
        "!python train_partseg.py \\\n",
        "    --model pointnet2_part_seg_msg \\\n",
        "    --normal \\\n",
        "    --log_dir pointnet2_part_seg_msg\n",
        "\n",
        "!python test_partseg.py \\\n",
        "    --normal \\\n",
        "    --log_dir pointnet2_part_seg_msg"
      ],
      "metadata": {
        "colab": {
          "base_uri": "https://localhost:8080/"
        },
        "id": "msvwu1tBnKF_",
        "outputId": "4c1a5fa6-0dbc-4526-83d2-b4a22d1d3ef9"
      },
      "execution_count": 10,
      "outputs": [
        {
          "output_type": "stream",
          "name": "stdout",
          "text": [
            "PARAMETER ...\n",
            "Namespace(batch_size=16, decay_rate=0.0001, epoch=251, gpu='0', learning_rate=0.001, log_dir='pointnet2_part_seg_msg', lr_decay=0.5, model='pointnet2_part_seg_msg', normal=True, npoint=2048, optimizer='Adam', step_size=20)\n",
            "The number of training data is: 13998\n",
            "The number of test data is: 2874\n",
            "No existing model, starting training from scratch...\n",
            "Epoch 1 (1/251):\n",
            "Learning rate:0.001000\n",
            "BN momentum updated to: 0.100000\n",
            " 22% 195/874 [02:29<08:40,  1.30it/s]\n",
            "Traceback (most recent call last):\n",
            "  File \"train_partseg.py\", line 305, in <module>\n",
            "    main(args)\n",
            "  File \"train_partseg.py\", line 193, in main\n",
            "    seg_pred, trans_feat = classifier(points, to_categorical(label, num_classes))\n",
            "  File \"/usr/local/lib/python3.7/dist-packages/torch/nn/modules/module.py\", line 1102, in _call_impl\n",
            "    return forward_call(*input, **kwargs)\n",
            "  File \"/content/models/pointnet2_part_seg_msg.py\", line 35, in forward\n",
            "    l1_xyz, l1_points = self.sa1(l0_xyz, l0_points)\n",
            "  File \"/usr/local/lib/python3.7/dist-packages/torch/nn/modules/module.py\", line 1102, in _call_impl\n",
            "    return forward_call(*input, **kwargs)\n",
            "  File \"/content/models/pointnet2_utils.py\", line 239, in forward\n",
            "    new_xyz = index_points(xyz, farthest_point_sample(xyz, S))\n",
            "  File \"/content/models/pointnet2_utils.py\", line 80, in farthest_point_sample\n",
            "    dist = torch.sum((xyz - centroid) ** 2, -1)\n",
            "KeyboardInterrupt\n",
            "PARAMETER ...\n",
            "Namespace(batch_size=24, gpu='0', log_dir='pointnet2_part_seg_msg', normal=True, num_point=2048, num_votes=3)\n",
            "The number of test data is: 2874\n",
            "Traceback (most recent call last):\n",
            "  File \"test_partseg.py\", line 167, in <module>\n",
            "    main(args)\n",
            "  File \"test_partseg.py\", line 83, in main\n",
            "    checkpoint = torch.load(str(experiment_dir) + '/checkpoints/best_model.pth')\n",
            "  File \"/usr/local/lib/python3.7/dist-packages/torch/serialization.py\", line 594, in load\n",
            "    with _open_file_like(f, 'rb') as opened_file:\n",
            "  File \"/usr/local/lib/python3.7/dist-packages/torch/serialization.py\", line 230, in _open_file_like\n",
            "    return _open_file(name_or_buffer, mode)\n",
            "  File \"/usr/local/lib/python3.7/dist-packages/torch/serialization.py\", line 211, in __init__\n",
            "    super(_open_file, self).__init__(open(name, mode))\n",
            "FileNotFoundError: [Errno 2] No such file or directory: 'log/part_seg/pointnet2_part_seg_msg/checkpoints/best_model.pth'\n"
          ]
        }
      ]
    }
  ]
}