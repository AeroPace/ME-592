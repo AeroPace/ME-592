{
  "nbformat": 4,
  "nbformat_minor": 0,
  "metadata": {
    "colab": {
      "name": "PointNetv2_Pytorch_Wrapper.ipynb",
      "provenance": [],
      "authorship_tag": "ABX9TyODfCF5QlkQ6PWE5FhGZGcP",
      "include_colab_link": true
    },
    "kernelspec": {
      "name": "python3",
      "display_name": "Python 3"
    },
    "language_info": {
      "name": "python"
    },
    "accelerator": "GPU"
  },
  "cells": [
    {
      "cell_type": "markdown",
      "metadata": {
        "id": "view-in-github",
        "colab_type": "text"
      },
      "source": [
        "<a href=\"https://colab.research.google.com/github/AeroPace/ME-592/blob/main/PointNetv2_Pytorch_Wrapper.ipynb\" target=\"_parent\"><img src=\"https://colab.research.google.com/assets/colab-badge.svg\" alt=\"Open In Colab\"/></a>"
      ]
    },
    {
      "cell_type": "code",
      "execution_count": null,
      "metadata": {
        "colab": {
          "base_uri": "https://localhost:8080/"
        },
        "id": "mwaBh5cMn98t",
        "outputId": "91cbcbec-789e-47e1-ee28-1ba07bf8ead5"
      },
      "outputs": [
        {
          "output_type": "stream",
          "name": "stdout",
          "text": [
            "Mon Apr 18 01:26:03 2022       \n",
            "+-----------------------------------------------------------------------------+\n",
            "| NVIDIA-SMI 460.32.03    Driver Version: 460.32.03    CUDA Version: 11.2     |\n",
            "|-------------------------------+----------------------+----------------------+\n",
            "| GPU  Name        Persistence-M| Bus-Id        Disp.A | Volatile Uncorr. ECC |\n",
            "| Fan  Temp  Perf  Pwr:Usage/Cap|         Memory-Usage | GPU-Util  Compute M. |\n",
            "|                               |                      |               MIG M. |\n",
            "|===============================+======================+======================|\n",
            "|   0  Tesla P100-PCIE...  Off  | 00000000:00:04.0 Off |                    0 |\n",
            "| N/A   33C    P0    26W / 250W |      0MiB / 16280MiB |      0%      Default |\n",
            "|                               |                      |                  N/A |\n",
            "+-------------------------------+----------------------+----------------------+\n",
            "                                                                               \n",
            "+-----------------------------------------------------------------------------+\n",
            "| Processes:                                                                  |\n",
            "|  GPU   GI   CI        PID   Type   Process name                  GPU Memory |\n",
            "|        ID   ID                                                   Usage      |\n",
            "|=============================================================================|\n",
            "|  No running processes found                                                 |\n",
            "+-----------------------------------------------------------------------------+\n"
          ]
        }
      ],
      "source": [
        "gpu_info = !nvidia-smi\n",
        "gpu_info = '\\n'.join(gpu_info)\n",
        "if gpu_info.find('failed') >= 0:\n",
        "  print('Not connected to a GPU')\n",
        "else:\n",
        "  print(gpu_info)"
      ]
    },
    {
      "cell_type": "code",
      "source": [
        "# Purpose: Download the ModelNet40 data for Pytorch PointNet implementation\n",
        "# Reference: https://github.com/yanx27/Pointnet_Pointnet2_pytorch\n",
        "!wget https://shapenet.cs.stanford.edu/media/modelnet40_normal_resampled.zip --no-check-certificate\n",
        "!unzip modelnet40_normal_resampled.zip\n",
        "!rm modelnet40_normal_resampled.zip\n",
        "!mkdir data\n",
        "!mv modelnet40_normal_resampled/ /content/data"
      ],
      "metadata": {
        "id": "EG6FRPeZOjgk"
      },
      "execution_count": null,
      "outputs": []
    },
    {
      "cell_type": "code",
      "source": [
        "# Purpose: Upload the PointNet++ PyTorch Implementation source\n",
        "# Reference: https://github.com/yanx27/Pointnet_Pointnet2_pytorch\n",
        "!wget https://github.com/AeroPace/ME-592/raw/main/HW4/Pointnet_Pointnet2_pytorch-master.zip --no-check-certificate\n",
        "!unzip Pointnet_Pointnet2_pytorch-master.zip\n",
        "\n",
        "# Remove the zip file from the Google Colab sesion\n",
        "!rm Pointnet_Pointnet2_pytorch-master.zip\n",
        "\n",
        "# Moving Directories to local /content directories\n",
        "!mv Pointnet_Pointnet2_pytorch-master/data_utils /content/data_utils\n",
        "!mv Pointnet_Pointnet2_pytorch-master/log /content/log\n",
        "!mv Pointnet_Pointnet2_pytorch-master/models /content/models\n",
        "!mv Pointnet_Pointnet2_pytorch-master/visualizer /content/visualizer\n",
        "\n",
        "# Move files to local /content directory\n",
        "!mv Pointnet_Pointnet2_pytorch-master/LICENSE /content/\n",
        "!mv Pointnet_Pointnet2_pytorch-master/README.md /content/\n",
        "!mv Pointnet_Pointnet2_pytorch-master/provider.py /content/\n",
        "!mv Pointnet_Pointnet2_pytorch-master/test_classification.py /content/\n",
        "!mv Pointnet_Pointnet2_pytorch-master/test_partseg.py /content/\n",
        "!mv Pointnet_Pointnet2_pytorch-master/test_semseg.py /content/\n",
        "!mv Pointnet_Pointnet2_pytorch-master/train_classification.py /content/\n",
        "!mv Pointnet_Pointnet2_pytorch-master/train_partseg.py /content/\n",
        "!mv Pointnet_Pointnet2_pytorch-master/train_semseg.py /content/\n",
        "\n",
        "# Delete old un-zip folder\n",
        "!rm Pointnet_Pointnet2_pytorch-master"
      ],
      "metadata": {
        "id": "9qJyxrGqMDBp"
      },
      "execution_count": null,
      "outputs": []
    },
    {
      "cell_type": "code",
      "source": [
        "# Purpose: Execute PointNet++ PyTorch Implementation\n",
        "# Reference: https://github.com/yanx27/Pointnet_Pointnet2_pytorch\n",
        "\n",
        "!python train_classification.py \\\n",
        "    --model pointnet2_cls_ssg \\\n",
        "    --log_dir pointnet2_cls_ssg \\\n",
        "    --epoch 10 \\\n",
        "    --learning_rate 0.001 \\\n",
        "    --num_point 1024 \\\n",
        "    --decay_rate 0.0001 \\\n",
        "    \n",
        "!python test_classification.py --log_dir pointnet2_cls_ssg"
      ],
      "metadata": {
        "colab": {
          "base_uri": "https://localhost:8080/"
        },
        "id": "Uo-huf7HuUBv",
        "outputId": "5866d074-dda2-4d10-ca97-bd8931152d13"
      },
      "execution_count": null,
      "outputs": [
        {
          "output_type": "stream",
          "name": "stdout",
          "text": [
            "PARAMETER ...\n",
            "Namespace(batch_size=24, decay_rate=0.0001, epoch=10, gpu='0', learning_rate=0.001, log_dir='pointnet2_cls_ssg', model='pointnet2_cls_ssg', num_category=40, num_point=1024, optimizer='Adam', process_data=False, use_cpu=False, use_normals=False, use_uniform_sample=False)\n",
            "Load dataset ...\n",
            "The size of train data is 9843\n",
            "The size of test data is 2468\n",
            "No existing model, starting training from scratch...\n",
            "Epoch 1 (1/10):\n",
            "100% 410/410 [15:13<00:00,  2.23s/it]\n",
            "Train Instance Accuracy: 0.516870\n",
            "100% 103/103 [03:49<00:00,  2.23s/it]\n",
            "Test Instance Accuracy: 0.537621, Class Accuracy: 0.460502\n",
            "Best Instance Accuracy: 0.537621, Class Accuracy: 0.460502\n",
            "Saving at log/classification/pointnet2_cls_ssg/checkpoints/best_model.pth\n",
            "Epoch 2 (2/10):\n",
            " 78% 319/410 [12:06<03:10,  2.10s/it]"
          ]
        }
      ]
    }
  ]
}