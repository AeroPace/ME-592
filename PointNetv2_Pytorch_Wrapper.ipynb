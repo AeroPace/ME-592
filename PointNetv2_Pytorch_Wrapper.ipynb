{
  "nbformat": 4,
  "nbformat_minor": 0,
  "metadata": {
    "colab": {
      "name": "PointNetv2_Pytorch_Wrapper.ipynb",
      "provenance": [],
      "authorship_tag": "ABX9TyNjc3m7vcRk7VS4i9mGJrGo",
      "include_colab_link": true
    },
    "kernelspec": {
      "name": "python3",
      "display_name": "Python 3"
    },
    "language_info": {
      "name": "python"
    },
    "accelerator": "GPU"
  },
  "cells": [
    {
      "cell_type": "markdown",
      "metadata": {
        "id": "view-in-github",
        "colab_type": "text"
      },
      "source": [
        "<a href=\"https://colab.research.google.com/github/AeroPace/ME-592/blob/main/PointNetv2_Pytorch_Wrapper.ipynb\" target=\"_parent\"><img src=\"https://colab.research.google.com/assets/colab-badge.svg\" alt=\"Open In Colab\"/></a>"
      ]
    },
    {
      "cell_type": "markdown",
      "source": [
        "#PointNet++ Google Colab Wrapper\n",
        "\n",
        "The PointNet source code https://github.com/charlesq34/pointnet2 has become out of date to recent Python, Tensorflow, and Google Colab updates. This Google Colab .ipynb session acts as a wrapper to execute either the ModelNet40 or ShapeNet datasets on the original PointNet++ model without any compromises to the algorithm or developers intent. To implement PointNet++ a wrapper was built around the modernized effort developed at https://github.com/yanx27/Pointnet_Pointnet2_pytorch.\n",
        "\n",
        "Updates were made to the source code to handle out-dated web-page certificates to retrieve the datasets as well as handling depreciated versions of Tensorflow and depreciated Python 2 syntax handling to execute in Python 3.7 environments. Source-Code updates were made and saved off at https://github.com/AeroPace/ME-592/raw/main/HW4/Pointnet_Pointnet2_pytorch-master.zip and called directly into memory below."
      ],
      "metadata": {
        "id": "LDt3eGWGlsei"
      }
    },
    {
      "cell_type": "markdown",
      "source": [
        "##Google Colab Session Setup"
      ],
      "metadata": {
        "id": "7ugEBC_9lZnv"
      }
    },
    {
      "cell_type": "markdown",
      "source": [
        "Check whether there are pre-existing processes running on the GPU"
      ],
      "metadata": {
        "id": "AHG9F7wolddd"
      }
    },
    {
      "cell_type": "code",
      "execution_count": 1,
      "metadata": {
        "colab": {
          "base_uri": "https://localhost:8080/"
        },
        "id": "mwaBh5cMn98t",
        "outputId": "b838f0a2-788f-4173-dde3-15cb78810e46"
      },
      "outputs": [
        {
          "output_type": "stream",
          "name": "stdout",
          "text": [
            "Tue Apr 19 04:13:00 2022       \n",
            "+-----------------------------------------------------------------------------+\n",
            "| NVIDIA-SMI 460.32.03    Driver Version: 460.32.03    CUDA Version: 11.2     |\n",
            "|-------------------------------+----------------------+----------------------+\n",
            "| GPU  Name        Persistence-M| Bus-Id        Disp.A | Volatile Uncorr. ECC |\n",
            "| Fan  Temp  Perf  Pwr:Usage/Cap|         Memory-Usage | GPU-Util  Compute M. |\n",
            "|                               |                      |               MIG M. |\n",
            "|===============================+======================+======================|\n",
            "|   0  Tesla P100-PCIE...  Off  | 00000000:00:04.0 Off |                    0 |\n",
            "| N/A   40C    P0    26W / 250W |      0MiB / 16280MiB |      0%      Default |\n",
            "|                               |                      |                  N/A |\n",
            "+-------------------------------+----------------------+----------------------+\n",
            "                                                                               \n",
            "+-----------------------------------------------------------------------------+\n",
            "| Processes:                                                                  |\n",
            "|  GPU   GI   CI        PID   Type   Process name                  GPU Memory |\n",
            "|        ID   ID                                                   Usage      |\n",
            "|=============================================================================|\n",
            "|  No running processes found                                                 |\n",
            "+-----------------------------------------------------------------------------+\n"
          ]
        }
      ],
      "source": [
        "gpu_info = !nvidia-smi\n",
        "gpu_info = '\\n'.join(gpu_info)\n",
        "if gpu_info.find('failed') >= 0:\n",
        "  print('Not connected to a GPU')\n",
        "else:\n",
        "  print(gpu_info)"
      ]
    },
    {
      "cell_type": "code",
      "source": [
        "# Purpose: Upload the PointNet++ PyTorch Implementation source\n",
        "# Reference: https://github.com/yanx27/Pointnet_Pointnet2_pytorch\n",
        "!wget https://github.com/AeroPace/ME-592/raw/main/HW4/Pointnet_Pointnet2_pytorch-master.zip --no-check-certificate\n",
        "!unzip Pointnet_Pointnet2_pytorch-master.zip\n",
        "\n",
        "# Remove the zip file from the Google Colab sesion\n",
        "!rm Pointnet_Pointnet2_pytorch-master.zip\n",
        "\n",
        "# Moving Directories to local /content directories\n",
        "!mv Pointnet_Pointnet2_pytorch-master/data_utils /content/data_utils\n",
        "!mv Pointnet_Pointnet2_pytorch-master/log /content/log\n",
        "!mv Pointnet_Pointnet2_pytorch-master/models /content/models\n",
        "!mv Pointnet_Pointnet2_pytorch-master/visualizer /content/visualizer\n",
        "\n",
        "# Move files to local /content directory\n",
        "!mv Pointnet_Pointnet2_pytorch-master/LICENSE /content/\n",
        "!mv Pointnet_Pointnet2_pytorch-master/README.md /content/\n",
        "!mv Pointnet_Pointnet2_pytorch-master/provider.py /content/\n",
        "!mv Pointnet_Pointnet2_pytorch-master/test_classification.py /content/\n",
        "!mv Pointnet_Pointnet2_pytorch-master/test_partseg.py /content/\n",
        "!mv Pointnet_Pointnet2_pytorch-master/test_semseg.py /content/\n",
        "!mv Pointnet_Pointnet2_pytorch-master/train_classification.py /content/\n",
        "!mv Pointnet_Pointnet2_pytorch-master/train_partseg.py /content/\n",
        "!mv Pointnet_Pointnet2_pytorch-master/train_semseg.py /content/\n",
        "\n",
        "# Delete old un-zip folder\n",
        "!rm Pointnet_Pointnet2_pytorch-master"
      ],
      "metadata": {
        "id": "9qJyxrGqMDBp",
        "colab": {
          "base_uri": "https://localhost:8080/"
        },
        "outputId": "79fab881-b45f-4169-ad11-cf4727d83b3b"
      },
      "execution_count": 2,
      "outputs": [
        {
          "output_type": "stream",
          "name": "stdout",
          "text": [
            "--2022-04-19 04:13:05--  https://github.com/AeroPace/ME-592/raw/main/HW4/Pointnet_Pointnet2_pytorch-master.zip\n",
            "Resolving github.com (github.com)... 192.30.255.113\n",
            "Connecting to github.com (github.com)|192.30.255.113|:443... connected.\n",
            "HTTP request sent, awaiting response... 302 Found\n",
            "Location: https://raw.githubusercontent.com/AeroPace/ME-592/main/HW4/Pointnet_Pointnet2_pytorch-master.zip [following]\n",
            "--2022-04-19 04:13:05--  https://raw.githubusercontent.com/AeroPace/ME-592/main/HW4/Pointnet_Pointnet2_pytorch-master.zip\n",
            "Resolving raw.githubusercontent.com (raw.githubusercontent.com)... 185.199.108.133, 185.199.111.133, 185.199.110.133, ...\n",
            "Connecting to raw.githubusercontent.com (raw.githubusercontent.com)|185.199.108.133|:443... connected.\n",
            "HTTP request sent, awaiting response... 200 OK\n",
            "Length: 999944 (977K) [application/zip]\n",
            "Saving to: ‘Pointnet_Pointnet2_pytorch-master.zip’\n",
            "\n",
            "Pointnet_Pointnet2_ 100%[===================>] 976.51K  --.-KB/s    in 0.04s   \n",
            "\n",
            "2022-04-19 04:13:06 (23.8 MB/s) - ‘Pointnet_Pointnet2_pytorch-master.zip’ saved [999944/999944]\n",
            "\n",
            "Archive:  Pointnet_Pointnet2_pytorch-master.zip\n",
            "  inflating: Pointnet_Pointnet2_pytorch-master/.gitattributes  \n",
            "  inflating: Pointnet_Pointnet2_pytorch-master/.gitignore  \n",
            "   creating: Pointnet_Pointnet2_pytorch-master/data_utils/\n",
            "  inflating: Pointnet_Pointnet2_pytorch-master/data_utils/collect_indoor3d_data.py  \n",
            "  inflating: Pointnet_Pointnet2_pytorch-master/data_utils/indoor3d_util.py  \n",
            "   creating: Pointnet_Pointnet2_pytorch-master/data_utils/meta/\n",
            "  inflating: Pointnet_Pointnet2_pytorch-master/data_utils/meta/anno_paths.txt  \n",
            "  inflating: Pointnet_Pointnet2_pytorch-master/data_utils/meta/class_names.txt  \n",
            "  inflating: Pointnet_Pointnet2_pytorch-master/data_utils/ModelNetDataLoader.py  \n",
            "  inflating: Pointnet_Pointnet2_pytorch-master/data_utils/S3DISDataLoader.py  \n",
            "  inflating: Pointnet_Pointnet2_pytorch-master/data_utils/ShapeNetDataLoader.py  \n",
            "  inflating: Pointnet_Pointnet2_pytorch-master/LICENSE  \n",
            "   creating: Pointnet_Pointnet2_pytorch-master/log/\n",
            "   creating: Pointnet_Pointnet2_pytorch-master/log/classification/\n",
            "   creating: Pointnet_Pointnet2_pytorch-master/log/classification/pointnet2_msg_normals/\n",
            "   creating: Pointnet_Pointnet2_pytorch-master/log/classification/pointnet2_msg_normals/checkpoints/\n",
            "   creating: Pointnet_Pointnet2_pytorch-master/log/classification/pointnet2_msg_normals/logs/\n",
            "  inflating: Pointnet_Pointnet2_pytorch-master/log/classification/pointnet2_msg_normals/pointnet2_cls_msg.py  \n",
            "  inflating: Pointnet_Pointnet2_pytorch-master/log/classification/pointnet2_msg_normals/pointnet2_utils.py  \n",
            "   creating: Pointnet_Pointnet2_pytorch-master/log/classification/pointnet2_ssg_wo_normals/\n",
            "   creating: Pointnet_Pointnet2_pytorch-master/log/classification/pointnet2_ssg_wo_normals/checkpoints/\n",
            "   creating: Pointnet_Pointnet2_pytorch-master/log/classification/pointnet2_ssg_wo_normals/logs/\n",
            "  inflating: Pointnet_Pointnet2_pytorch-master/log/classification/pointnet2_ssg_wo_normals/pointnet2_cls_ssg.py  \n",
            "  inflating: Pointnet_Pointnet2_pytorch-master/log/classification/pointnet2_ssg_wo_normals/pointnet2_utils.py  \n",
            "   creating: Pointnet_Pointnet2_pytorch-master/log/part_seg/\n",
            "   creating: Pointnet_Pointnet2_pytorch-master/log/part_seg/pointnet2_part_seg_msg/\n",
            "   creating: Pointnet_Pointnet2_pytorch-master/log/part_seg/pointnet2_part_seg_msg/checkpoints/\n",
            "   creating: Pointnet_Pointnet2_pytorch-master/log/part_seg/pointnet2_part_seg_msg/logs/\n",
            "  inflating: Pointnet_Pointnet2_pytorch-master/log/part_seg/pointnet2_part_seg_msg/pointnet2_part_seg_msg.py  \n",
            "  inflating: Pointnet_Pointnet2_pytorch-master/log/part_seg/pointnet2_part_seg_msg/pointnet2_utils.py  \n",
            "   creating: Pointnet_Pointnet2_pytorch-master/log/sem_seg/\n",
            "   creating: Pointnet_Pointnet2_pytorch-master/log/sem_seg/pointnet_sem_seg/\n",
            "   creating: Pointnet_Pointnet2_pytorch-master/log/sem_seg/pointnet_sem_seg/checkpoints/\n",
            "  inflating: Pointnet_Pointnet2_pytorch-master/log/sem_seg/pointnet_sem_seg/eval.txt  \n",
            "   creating: Pointnet_Pointnet2_pytorch-master/log/sem_seg/pointnet_sem_seg/logs/\n",
            "  inflating: Pointnet_Pointnet2_pytorch-master/log/sem_seg/pointnet_sem_seg/pointnet_sem_seg.py  \n",
            "  inflating: Pointnet_Pointnet2_pytorch-master/log/sem_seg/pointnet_sem_seg/pointnet2_utils.py  \n",
            "   creating: Pointnet_Pointnet2_pytorch-master/log/sem_seg/pointnet2_sem_seg/\n",
            "   creating: Pointnet_Pointnet2_pytorch-master/log/sem_seg/pointnet2_sem_seg/checkpoints/\n",
            "  inflating: Pointnet_Pointnet2_pytorch-master/log/sem_seg/pointnet2_sem_seg/eval.txt  \n",
            "   creating: Pointnet_Pointnet2_pytorch-master/log/sem_seg/pointnet2_sem_seg/logs/\n",
            "  inflating: Pointnet_Pointnet2_pytorch-master/log/sem_seg/pointnet2_sem_seg/pointnet2_sem_seg.py  \n",
            "  inflating: Pointnet_Pointnet2_pytorch-master/log/sem_seg/pointnet2_sem_seg/pointnet2_utils.py  \n",
            "   creating: Pointnet_Pointnet2_pytorch-master/models/\n",
            "  inflating: Pointnet_Pointnet2_pytorch-master/models/pointnet_cls.py  \n",
            "  inflating: Pointnet_Pointnet2_pytorch-master/models/pointnet_part_seg.py  \n",
            "  inflating: Pointnet_Pointnet2_pytorch-master/models/pointnet_sem_seg.py  \n",
            "  inflating: Pointnet_Pointnet2_pytorch-master/models/pointnet_utils.py  \n",
            "  inflating: Pointnet_Pointnet2_pytorch-master/models/pointnet2_cls_msg.py  \n",
            "  inflating: Pointnet_Pointnet2_pytorch-master/models/pointnet2_cls_ssg.py  \n",
            "  inflating: Pointnet_Pointnet2_pytorch-master/models/pointnet2_part_seg_msg.py  \n",
            "  inflating: Pointnet_Pointnet2_pytorch-master/models/pointnet2_part_seg_ssg.py  \n",
            "  inflating: Pointnet_Pointnet2_pytorch-master/models/pointnet2_sem_seg.py  \n",
            "  inflating: Pointnet_Pointnet2_pytorch-master/models/pointnet2_sem_seg_msg.py  \n",
            "  inflating: Pointnet_Pointnet2_pytorch-master/models/pointnet2_utils.py  \n",
            "  inflating: Pointnet_Pointnet2_pytorch-master/provider.py  \n",
            "  inflating: Pointnet_Pointnet2_pytorch-master/README.md  \n",
            "  inflating: Pointnet_Pointnet2_pytorch-master/test_classification.py  \n",
            "  inflating: Pointnet_Pointnet2_pytorch-master/test_partseg.py  \n",
            "  inflating: Pointnet_Pointnet2_pytorch-master/test_semseg.py  \n",
            "  inflating: Pointnet_Pointnet2_pytorch-master/train_classification.py  \n",
            "  inflating: Pointnet_Pointnet2_pytorch-master/train_partseg.py  \n",
            "  inflating: Pointnet_Pointnet2_pytorch-master/train_semseg.py  \n",
            "   creating: Pointnet_Pointnet2_pytorch-master/visualizer/\n",
            "  inflating: Pointnet_Pointnet2_pytorch-master/visualizer/build.sh  \n",
            "  inflating: Pointnet_Pointnet2_pytorch-master/visualizer/eulerangles.py  \n",
            "  inflating: Pointnet_Pointnet2_pytorch-master/visualizer/pc_utils.py  \n",
            "  inflating: Pointnet_Pointnet2_pytorch-master/visualizer/pic.png  \n",
            "  inflating: Pointnet_Pointnet2_pytorch-master/visualizer/pic2.png  \n",
            "  inflating: Pointnet_Pointnet2_pytorch-master/visualizer/plyfile.py  \n",
            "  inflating: Pointnet_Pointnet2_pytorch-master/visualizer/render_balls_so.cpp  \n",
            "  inflating: Pointnet_Pointnet2_pytorch-master/visualizer/show3d_balls.py  \n",
            "rm: cannot remove 'Pointnet_Pointnet2_pytorch-master': Is a directory\n"
          ]
        }
      ]
    },
    {
      "cell_type": "markdown",
      "source": [
        "##Running PointNet on the ModelNet40 dataset"
      ],
      "metadata": {
        "id": "bgNrJi9Tl8z-"
      }
    },
    {
      "cell_type": "code",
      "source": [
        "# Purpose: Download the ModelNet40 data for Pytorch PointNet implementation\n",
        "# Reference: https://github.com/yanx27/Pointnet_Pointnet2_pytorch\n",
        "!wget https://shapenet.cs.stanford.edu/media/modelnet40_normal_resampled.zip --no-check-certificate\n",
        "!unzip modelnet40_normal_resampled.zip\n",
        "!rm modelnet40_normal_resampled.zip\n",
        "!mkdir data\n",
        "!mv modelnet40_normal_resampled/ /content/data"
      ],
      "metadata": {
        "id": "EG6FRPeZOjgk"
      },
      "execution_count": null,
      "outputs": []
    },
    {
      "cell_type": "code",
      "source": [
        "# Purpose: Execute PointNet++ PyTorch Implementation\n",
        "# Reference: https://github.com/yanx27/Pointnet_Pointnet2_pytorch\n",
        "\n",
        "!python train_classification.py \\\n",
        "    --model pointnet2_cls_ssg \\\n",
        "    --log_dir pointnet2_cls_ssg \\\n",
        "    --epoch 10 \\\n",
        "    --learning_rate 0.001 \\\n",
        "    --num_point 1024 \\\n",
        "    --decay_rate 0.0001 \\\n",
        "    \n",
        "!python test_classification.py --log_dir pointnet2_cls_ssg"
      ],
      "metadata": {
        "id": "Uo-huf7HuUBv"
      },
      "execution_count": null,
      "outputs": []
    },
    {
      "cell_type": "markdown",
      "source": [
        "##Running PointNet on the ShapeNet dataset"
      ],
      "metadata": {
        "id": "8ziPQHL5l2fV"
      }
    },
    {
      "cell_type": "code",
      "source": [
        "# Purpose: Download the ShapeNet data for Pytorch PointNet implementation\n",
        "# Reference: https://github.com/yanx27/Pointnet_Pointnet2_pytorch\n",
        "!wget https://shapenet.cs.stanford.edu/media/shapenetcore_partanno_segmentation_benchmark_v0_normal.zip --no-check-certificate\n",
        "!unzip shapenetcore_partanno_segmentation_benchmark_v0_normal.zip\n",
        "!rm shapenetcore_partanno_segmentation_benchmark_v0_normal.zip\n",
        "!mkdir /content/data\n",
        "!mv shapenetcore_partanno_segmentation_benchmark_v0_normal /content/data/shapenetcore_partanno_segmentation_benchmark_v0_normal"
      ],
      "metadata": {
        "id": "wP_XjrBmm4_9"
      },
      "execution_count": 5,
      "outputs": []
    },
    {
      "cell_type": "code",
      "source": [
        "# Purpose: Execute PointNet++ PyTorch Implementation\n",
        "# Reference: https://github.com/yanx27/Pointnet_Pointnet2_pytorch\n",
        "\n",
        "!python train_partseg.py \\\n",
        "    --model pointnet2_part_seg_msg \\\n",
        "    --epoch 1 \\\n",
        "    --normal \\\n",
        "    --log_dir pointnet2_part_seg_msg\n",
        "\n",
        "!python test_partseg.py \\\n",
        "    --normal \\\n",
        "    --log_dir pointnet2_part_seg_msg"
      ],
      "metadata": {
        "colab": {
          "base_uri": "https://localhost:8080/"
        },
        "id": "msvwu1tBnKF_",
        "outputId": "1bff6b6a-f046-4701-a989-a18fdea7e177"
      },
      "execution_count": null,
      "outputs": [
        {
          "output_type": "stream",
          "name": "stdout",
          "text": [
            "PARAMETER ...\n",
            "Namespace(batch_size=16, decay_rate=0.0001, epoch=1, gpu='0', learning_rate=0.001, log_dir='pointnet2_part_seg_msg', lr_decay=0.5, model='pointnet2_part_seg_msg', normal=True, npoint=2048, optimizer='Adam', step_size=20)\n",
            "The number of training data is: 13998\n",
            "The number of test data is: 2874\n",
            "No existing model, starting training from scratch...\n",
            "Epoch 1 (1/1):\n",
            "Learning rate:0.001000\n",
            "BN momentum updated to: 0.100000\n",
            "  0% 1/874 [00:07<1:43:07,  7.09s/it]"
          ]
        }
      ]
    }
  ]
}